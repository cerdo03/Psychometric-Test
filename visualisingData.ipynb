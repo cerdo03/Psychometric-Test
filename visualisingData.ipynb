{
  "nbformat": 4,
  "nbformat_minor": 0,
  "metadata": {
    "colab": {
      "name": "visualisingData.ipynb",
      "provenance": []
    },
    "kernelspec": {
      "name": "python3",
      "display_name": "Python 3"
    },
    "language_info": {
      "name": "python"
    }
  },
  "cells": [
    {
      "cell_type": "code",
      "metadata": {
        "id": "3PW3esdYy8m4"
      },
      "source": [
        "# from google.colab import drive\n",
        "# drive.mount('/content/drive')"
      ],
      "execution_count": null,
      "outputs": []
    },
    {
      "cell_type": "code",
      "metadata": {
        "colab": {
          "base_uri": "https://localhost:8080/"
        },
        "id": "oxUAMSec006a",
        "outputId": "a336c03f-b44d-409a-a312-30a55e9440d2"
      },
      "source": [
        "import numpy as np\n",
        "import matplotlib.pyplot as plt\n",
        "import pandas as pd\n",
        "import seaborn as sns\n",
        "sns.set()\n",
        "\n",
        "from sklearn.preprocessing import StandardScaler\n",
        "from sklearn.cluster import KMeans\n",
        "from sklearn.decomposition import PCA\n",
        "\n",
        "data = pd.read_csv('/content/normal10 - normal10.csv')\n",
        "print(data)"
      ],
      "execution_count": null,
      "outputs": [
        {
          "output_type": "stream",
          "text": [
            "       Topic1  Topic2  Topic3  Topic4\n",
            "0      4.4731  4.7878  5.8601  9.0844\n",
            "1      6.4396  8.9346  7.8673  8.3755\n",
            "2      1.7740  4.5454  4.4141  1.3791\n",
            "3      1.8574  5.9582  0.7065  8.2075\n",
            "4      3.0163  3.2861  3.6008  3.9238\n",
            "...       ...     ...     ...     ...\n",
            "49995  2.0271  4.9604  0.9316  7.2779\n",
            "49996  6.5017  2.8801  1.8620  2.2779\n",
            "49997  7.4387  4.6468  4.8421  4.6331\n",
            "49998  6.5654  8.1208  2.6129  6.0770\n",
            "49999  5.0909  4.1831  4.2284  5.0952\n",
            "\n",
            "[50000 rows x 4 columns]\n"
          ],
          "name": "stdout"
        }
      ]
    },
    {
      "cell_type": "code",
      "metadata": {
        "id": "pVBy2V-m1I9d"
      },
      "source": [
        "# data[\"Topic1\"]=data[\"A\"]+data[\"B\"]+data[\"C\"]+data[\"D\"]\n",
        "# data[\"Topic2\"]=data[\"E\"]+data[\"F\"]+data[\"G\"]+data[\"H\"]\n",
        "# data[\"Topic3\"]=data[\"I\"]+data[\"J\"]+data[\"L\"]+data[\"K\"]\n",
        "# data[\"Topic4\"]=data[\"M\"]+data[\"N\"]+data[\"O\"]+data[\"P\"]\n",
        "# data\n"
      ],
      "execution_count": null,
      "outputs": []
    },
    {
      "cell_type": "code",
      "metadata": {
        "id": "TIkZCc_g1P5F"
      },
      "source": [
        "# data2=data[[\"Topic1\",\"Topic2\",\"Topic3\",\"Topic4\"]].copy()\n",
        "# data2"
      ],
      "execution_count": null,
      "outputs": []
    },
    {
      "cell_type": "code",
      "metadata": {
        "colab": {
          "base_uri": "https://localhost:8080/",
          "height": 417
        },
        "id": "8aPGKOGK1T2g",
        "outputId": "19c01b5a-79eb-47bd-bce9-e8ed3ee89775"
      },
      "source": [
        "# data2=pd.DataFrame.drop_duplicates(data2)\n",
        "data2=data\n",
        "data2"
      ],
      "execution_count": null,
      "outputs": [
        {
          "output_type": "execute_result",
          "data": {
            "text/html": [
              "<div>\n",
              "<style scoped>\n",
              "    .dataframe tbody tr th:only-of-type {\n",
              "        vertical-align: middle;\n",
              "    }\n",
              "\n",
              "    .dataframe tbody tr th {\n",
              "        vertical-align: top;\n",
              "    }\n",
              "\n",
              "    .dataframe thead th {\n",
              "        text-align: right;\n",
              "    }\n",
              "</style>\n",
              "<table border=\"1\" class=\"dataframe\">\n",
              "  <thead>\n",
              "    <tr style=\"text-align: right;\">\n",
              "      <th></th>\n",
              "      <th>Topic1</th>\n",
              "      <th>Topic2</th>\n",
              "      <th>Topic3</th>\n",
              "      <th>Topic4</th>\n",
              "    </tr>\n",
              "  </thead>\n",
              "  <tbody>\n",
              "    <tr>\n",
              "      <th>0</th>\n",
              "      <td>4.4731</td>\n",
              "      <td>4.7878</td>\n",
              "      <td>5.8601</td>\n",
              "      <td>9.0844</td>\n",
              "    </tr>\n",
              "    <tr>\n",
              "      <th>1</th>\n",
              "      <td>6.4396</td>\n",
              "      <td>8.9346</td>\n",
              "      <td>7.8673</td>\n",
              "      <td>8.3755</td>\n",
              "    </tr>\n",
              "    <tr>\n",
              "      <th>2</th>\n",
              "      <td>1.7740</td>\n",
              "      <td>4.5454</td>\n",
              "      <td>4.4141</td>\n",
              "      <td>1.3791</td>\n",
              "    </tr>\n",
              "    <tr>\n",
              "      <th>3</th>\n",
              "      <td>1.8574</td>\n",
              "      <td>5.9582</td>\n",
              "      <td>0.7065</td>\n",
              "      <td>8.2075</td>\n",
              "    </tr>\n",
              "    <tr>\n",
              "      <th>4</th>\n",
              "      <td>3.0163</td>\n",
              "      <td>3.2861</td>\n",
              "      <td>3.6008</td>\n",
              "      <td>3.9238</td>\n",
              "    </tr>\n",
              "    <tr>\n",
              "      <th>...</th>\n",
              "      <td>...</td>\n",
              "      <td>...</td>\n",
              "      <td>...</td>\n",
              "      <td>...</td>\n",
              "    </tr>\n",
              "    <tr>\n",
              "      <th>49995</th>\n",
              "      <td>2.0271</td>\n",
              "      <td>4.9604</td>\n",
              "      <td>0.9316</td>\n",
              "      <td>7.2779</td>\n",
              "    </tr>\n",
              "    <tr>\n",
              "      <th>49996</th>\n",
              "      <td>6.5017</td>\n",
              "      <td>2.8801</td>\n",
              "      <td>1.8620</td>\n",
              "      <td>2.2779</td>\n",
              "    </tr>\n",
              "    <tr>\n",
              "      <th>49997</th>\n",
              "      <td>7.4387</td>\n",
              "      <td>4.6468</td>\n",
              "      <td>4.8421</td>\n",
              "      <td>4.6331</td>\n",
              "    </tr>\n",
              "    <tr>\n",
              "      <th>49998</th>\n",
              "      <td>6.5654</td>\n",
              "      <td>8.1208</td>\n",
              "      <td>2.6129</td>\n",
              "      <td>6.0770</td>\n",
              "    </tr>\n",
              "    <tr>\n",
              "      <th>49999</th>\n",
              "      <td>5.0909</td>\n",
              "      <td>4.1831</td>\n",
              "      <td>4.2284</td>\n",
              "      <td>5.0952</td>\n",
              "    </tr>\n",
              "  </tbody>\n",
              "</table>\n",
              "<p>50000 rows × 4 columns</p>\n",
              "</div>"
            ],
            "text/plain": [
              "       Topic1  Topic2  Topic3  Topic4\n",
              "0      4.4731  4.7878  5.8601  9.0844\n",
              "1      6.4396  8.9346  7.8673  8.3755\n",
              "2      1.7740  4.5454  4.4141  1.3791\n",
              "3      1.8574  5.9582  0.7065  8.2075\n",
              "4      3.0163  3.2861  3.6008  3.9238\n",
              "...       ...     ...     ...     ...\n",
              "49995  2.0271  4.9604  0.9316  7.2779\n",
              "49996  6.5017  2.8801  1.8620  2.2779\n",
              "49997  7.4387  4.6468  4.8421  4.6331\n",
              "49998  6.5654  8.1208  2.6129  6.0770\n",
              "49999  5.0909  4.1831  4.2284  5.0952\n",
              "\n",
              "[50000 rows x 4 columns]"
            ]
          },
          "metadata": {
            "tags": []
          },
          "execution_count": 2
        }
      ]
    },
    {
      "cell_type": "code",
      "metadata": {
        "colab": {
          "base_uri": "https://localhost:8080/",
          "height": 417
        },
        "id": "gDRMk20r1W1_",
        "outputId": "4d1ad02b-f870-4e0b-dba2-937148432162"
      },
      "source": [
        "data2[\"Total\"]=data2[\"Topic1\"]+data2[\"Topic2\"]+data2[\"Topic3\"]+data2[\"Topic4\"]\n",
        "data2"
      ],
      "execution_count": null,
      "outputs": [
        {
          "output_type": "execute_result",
          "data": {
            "text/html": [
              "<div>\n",
              "<style scoped>\n",
              "    .dataframe tbody tr th:only-of-type {\n",
              "        vertical-align: middle;\n",
              "    }\n",
              "\n",
              "    .dataframe tbody tr th {\n",
              "        vertical-align: top;\n",
              "    }\n",
              "\n",
              "    .dataframe thead th {\n",
              "        text-align: right;\n",
              "    }\n",
              "</style>\n",
              "<table border=\"1\" class=\"dataframe\">\n",
              "  <thead>\n",
              "    <tr style=\"text-align: right;\">\n",
              "      <th></th>\n",
              "      <th>Topic1</th>\n",
              "      <th>Topic2</th>\n",
              "      <th>Topic3</th>\n",
              "      <th>Topic4</th>\n",
              "      <th>Total</th>\n",
              "    </tr>\n",
              "  </thead>\n",
              "  <tbody>\n",
              "    <tr>\n",
              "      <th>0</th>\n",
              "      <td>4.4731</td>\n",
              "      <td>4.7878</td>\n",
              "      <td>5.8601</td>\n",
              "      <td>9.0844</td>\n",
              "      <td>24.2054</td>\n",
              "    </tr>\n",
              "    <tr>\n",
              "      <th>1</th>\n",
              "      <td>6.4396</td>\n",
              "      <td>8.9346</td>\n",
              "      <td>7.8673</td>\n",
              "      <td>8.3755</td>\n",
              "      <td>31.6170</td>\n",
              "    </tr>\n",
              "    <tr>\n",
              "      <th>2</th>\n",
              "      <td>1.7740</td>\n",
              "      <td>4.5454</td>\n",
              "      <td>4.4141</td>\n",
              "      <td>1.3791</td>\n",
              "      <td>12.1126</td>\n",
              "    </tr>\n",
              "    <tr>\n",
              "      <th>3</th>\n",
              "      <td>1.8574</td>\n",
              "      <td>5.9582</td>\n",
              "      <td>0.7065</td>\n",
              "      <td>8.2075</td>\n",
              "      <td>16.7296</td>\n",
              "    </tr>\n",
              "    <tr>\n",
              "      <th>4</th>\n",
              "      <td>3.0163</td>\n",
              "      <td>3.2861</td>\n",
              "      <td>3.6008</td>\n",
              "      <td>3.9238</td>\n",
              "      <td>13.8270</td>\n",
              "    </tr>\n",
              "    <tr>\n",
              "      <th>...</th>\n",
              "      <td>...</td>\n",
              "      <td>...</td>\n",
              "      <td>...</td>\n",
              "      <td>...</td>\n",
              "      <td>...</td>\n",
              "    </tr>\n",
              "    <tr>\n",
              "      <th>49995</th>\n",
              "      <td>2.0271</td>\n",
              "      <td>4.9604</td>\n",
              "      <td>0.9316</td>\n",
              "      <td>7.2779</td>\n",
              "      <td>15.1970</td>\n",
              "    </tr>\n",
              "    <tr>\n",
              "      <th>49996</th>\n",
              "      <td>6.5017</td>\n",
              "      <td>2.8801</td>\n",
              "      <td>1.8620</td>\n",
              "      <td>2.2779</td>\n",
              "      <td>13.5217</td>\n",
              "    </tr>\n",
              "    <tr>\n",
              "      <th>49997</th>\n",
              "      <td>7.4387</td>\n",
              "      <td>4.6468</td>\n",
              "      <td>4.8421</td>\n",
              "      <td>4.6331</td>\n",
              "      <td>21.5607</td>\n",
              "    </tr>\n",
              "    <tr>\n",
              "      <th>49998</th>\n",
              "      <td>6.5654</td>\n",
              "      <td>8.1208</td>\n",
              "      <td>2.6129</td>\n",
              "      <td>6.0770</td>\n",
              "      <td>23.3761</td>\n",
              "    </tr>\n",
              "    <tr>\n",
              "      <th>49999</th>\n",
              "      <td>5.0909</td>\n",
              "      <td>4.1831</td>\n",
              "      <td>4.2284</td>\n",
              "      <td>5.0952</td>\n",
              "      <td>18.5976</td>\n",
              "    </tr>\n",
              "  </tbody>\n",
              "</table>\n",
              "<p>50000 rows × 5 columns</p>\n",
              "</div>"
            ],
            "text/plain": [
              "       Topic1  Topic2  Topic3  Topic4    Total\n",
              "0      4.4731  4.7878  5.8601  9.0844  24.2054\n",
              "1      6.4396  8.9346  7.8673  8.3755  31.6170\n",
              "2      1.7740  4.5454  4.4141  1.3791  12.1126\n",
              "3      1.8574  5.9582  0.7065  8.2075  16.7296\n",
              "4      3.0163  3.2861  3.6008  3.9238  13.8270\n",
              "...       ...     ...     ...     ...      ...\n",
              "49995  2.0271  4.9604  0.9316  7.2779  15.1970\n",
              "49996  6.5017  2.8801  1.8620  2.2779  13.5217\n",
              "49997  7.4387  4.6468  4.8421  4.6331  21.5607\n",
              "49998  6.5654  8.1208  2.6129  6.0770  23.3761\n",
              "49999  5.0909  4.1831  4.2284  5.0952  18.5976\n",
              "\n",
              "[50000 rows x 5 columns]"
            ]
          },
          "metadata": {
            "tags": []
          },
          "execution_count": 3
        }
      ]
    },
    {
      "cell_type": "code",
      "metadata": {
        "colab": {
          "base_uri": "https://localhost:8080/",
          "height": 268
        },
        "id": "_aJ9uxHR2EjR",
        "outputId": "e4037258-a6a6-4f2a-afd3-5c703762482b"
      },
      "source": [
        "plt.hist(data2['Total'],bins=100)\n",
        "plt.show()"
      ],
      "execution_count": null,
      "outputs": [
        {
          "output_type": "display_data",
          "data": {
            "image/png": "[encoded data removed]",
            "text/plain": [
              "<Figure size 432x288 with 1 Axes>"
            ]
          },
          "metadata": {
            "tags": [],
            "needs_background": "light"
          }
        }
      ]
    },
    {
      "cell_type": "code",
      "metadata": {
        "colab": {
          "base_uri": "https://localhost:8080/",
          "height": 268
        },
        "id": "kCFGBoV5HOAA",
        "outputId": "708c035a-fe96-427f-eda4-3ce5fe68f6d2"
      },
      "source": [
        "plt.hist(data2['Topic1'],bins=100)\n",
        "plt.show()"
      ],
      "execution_count": null,
      "outputs": [
        {
          "output_type": "display_data",
          "data": {
            "image/png": "[encoded data removed]",
            "text/plain": [
              "<Figure size 432x288 with 1 Axes>"
            ]
          },
          "metadata": {
            "tags": [],
            "needs_background": "light"
          }
        }
      ]
    },
    {
      "cell_type": "code",
      "metadata": {
        "colab": {
          "base_uri": "https://localhost:8080/",
          "height": 268
        },
        "id": "25tGB2gtHQYy",
        "outputId": "0d8c92ae-8e44-4694-cf6f-469eca252032"
      },
      "source": [
        "plt.hist(data2['Topic2'],bins=100)\n",
        "plt.show()"
      ],
      "execution_count": null,
      "outputs": [
        {
          "output_type": "display_data",
          "data": {
            "image/png": "[encoded data removed]",
            "text/plain": [
              "<Figure size 432x288 with 1 Axes>"
            ]
          },
          "metadata": {
            "tags": [],
            "needs_background": "light"
          }
        }
      ]
    },
    {
      "cell_type": "code",
      "metadata": {
        "colab": {
          "base_uri": "https://localhost:8080/",
          "height": 268
        },
        "id": "SvqHq0WiHRh5",
        "outputId": "a44c5f43-3c1b-4eb2-9d03-4029c7613f50"
      },
      "source": [
        "plt.hist(data2['Topic3'],bins=100)\n",
        "plt.show()"
      ],
      "execution_count": null,
      "outputs": [
        {
          "output_type": "display_data",
          "data": {
            "image/png": "[encoded data removed]",
            "text/plain": [
              "<Figure size 432x288 with 1 Axes>"
            ]
          },
          "metadata": {
            "tags": [],
            "needs_background": "light"
          }
        }
      ]
    },
    {
      "cell_type": "code",
      "metadata": {
        "colab": {
          "base_uri": "https://localhost:8080/",
          "height": 268
        },
        "id": "8--25I0VHS2u",
        "outputId": "d4787fda-b581-46d9-cce2-0839c5c568d9"
      },
      "source": [
        "plt.hist(data2['Topic4'],bins=100)\n",
        "plt.show()"
      ],
      "execution_count": null,
      "outputs": [
        {
          "output_type": "display_data",
          "data": {
            "image/png": "[encoded data removed]",
            "text/plain": [
              "<Figure size 432x288 with 1 Axes>"
            ]
          },
          "metadata": {
            "tags": [],
            "needs_background": "light"
          }
        }
      ]
    }
  ]
}