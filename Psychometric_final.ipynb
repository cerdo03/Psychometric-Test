{
  "nbformat": 4,
  "nbformat_minor": 0,
  "metadata": {
    "colab": {
      "name": "Psychometric_final.ipynb",
      "provenance": []
    },
    "kernelspec": {
      "name": "python3",
      "display_name": "Python 3"
    },
    "language_info": {
      "name": "python"
    }
  },
  "cells": [
    {
      "cell_type": "code",
      "metadata": {
        "id": "lvTEII5OACoL"
      },
      "source": [
        "import numpy as np\n",
        "import matplotlib.pyplot as plt\n",
        "import pandas as pd\n",
        "import seaborn as sns\n",
        "sns.set()\n",
        "\n",
        "from sklearn.preprocessing import StandardScaler\n",
        "from sklearn.cluster import KMeans\n",
        "from sklearn.decomposition import PCA\n",
        "\n",
        "data = pd.read_csv('/content/normal10 - normal10.csv')"
      ],
      "execution_count": null,
      "outputs": []
    },
    {
      "cell_type": "code",
      "metadata": {
        "colab": {
          "base_uri": "https://localhost:8080/"
        },
        "id": "KBMXHW7ADh8_",
        "outputId": "7808d4ca-1698-4042-ade0-7ba2a73158b6"
      },
      "source": [
        "clus=8\n",
        "kmeans=KMeans(n_clusters=clus , init = 'k-means++', max_iter = 300, n_init = 10, random_state = 0)\n",
        "kmeans.fit(data)"
      ],
      "execution_count": null,
      "outputs": [
        {
          "output_type": "execute_result",
          "data": {
            "text/plain": [
              "KMeans(algorithm='auto', copy_x=True, init='k-means++', max_iter=300,\n",
              "       n_clusters=8, n_init=10, n_jobs=None, precompute_distances='auto',\n",
              "       random_state=0, tol=0.0001, verbose=0)"
            ]
          },
          "metadata": {
            "tags": []
          },
          "execution_count": 2
        }
      ]
    },
    {
      "cell_type": "code",
      "metadata": {
        "id": "AgeEzzcADk-w"
      },
      "source": [
        "predictions = kmeans.labels_\n",
        "data['Clusters'] = predictions"
      ],
      "execution_count": null,
      "outputs": []
    },
    {
      "cell_type": "code",
      "metadata": {
        "id": "qNwsi1oxDpGt"
      },
      "source": [
        "newdf=pd.DataFrame([],columns=['Topic1','Topic2','Topic3','Topic4','Clusters'])\n",
        "\n",
        "for i in range(0,clus):\n",
        "  newdfTemp=data[data['Clusters']==i]\n",
        "  newdfTemp=newdfTemp.mean()\n",
        "  newdf=newdf.append(newdfTemp,ignore_index=True)\n",
        "\n",
        "newdf[\"sum\"]=newdf[\"Topic1\"]+newdf[\"Topic2\"]+newdf[\"Topic3\"]+newdf[\"Topic4\"]"
      ],
      "execution_count": null,
      "outputs": []
    },
    {
      "cell_type": "code",
      "metadata": {
        "id": "Bcrp1VpLE_e0"
      },
      "source": [
        "def career_predict(n):\n",
        "  print(\"Careers suited for you: \")\n",
        "  if n==0:\n",
        "    print(\"1a\",\"1b\",\"1c\")\n",
        "  elif n==1:\n",
        "    print(\"2a\",\"2b\",\"2c\")\n",
        "  elif n==2:\n",
        "    print(\"3a\",\"3b\",\"3c\")\n",
        "  elif n==3:\n",
        "    print(\"4a\",\"4b\",\"4c\")\n",
        "  elif n==4:\n",
        "    print(\"5a\",\"5b\",\"5c\")\n",
        "  elif n==5:\n",
        "    print(\"6a\",\"6b\",\"6c\")\n",
        "  elif n==6:\n",
        "    print(\"7a\",\"7b\",\"7c\")\n",
        "  elif n==7:\n",
        "    print(\"8a\",\"8b\",\"8c\")"
      ],
      "execution_count": null,
      "outputs": []
    },
    {
      "cell_type": "code",
      "metadata": {
        "id": "b1M9EWpFDuZN"
      },
      "source": [
        "T1=9\n",
        "T2=9\n",
        "T3=9\n",
        "T4=9\n",
        "test=[[T1,T2,T3,T4]]\n",
        "X_test=pd.DataFrame(test,columns=[\"Topic1\",\"Topic2\",\"Topic3\",\"Topic4\"])\n",
        "test_labels = kmeans.predict(X_test)\n",
        "X_test_clstrs = X_test.copy()\n",
        "X_test_clstrs['Cluster'] = test_labels"
      ],
      "execution_count": null,
      "outputs": []
    },
    {
      "cell_type": "code",
      "metadata": {
        "colab": {
          "base_uri": "https://localhost:8080/",
          "height": 248
        },
        "id": "dSHOQbImJJjE",
        "outputId": "a37f7c1f-9734-459b-d2aa-1b126cab49b8"
      },
      "source": [
        "X=[T1,\t-T2,\t-T3,\tT4, T1]\n",
        "Y=[T1,\tT2,\t-T3,\t-T4, T1]\n",
        "\n",
        "plt.plot(X,Y,linestyle='--')\n",
        "\n",
        "plt.axhline(y=0, color='black', linestyle='-', linewidth=1)    \n",
        "plt.axvline(x=0, color='black',linestyle='-', linewidth=1)\n",
        "\n",
        "# plt.text(10, 10, \"Topic1\", bbox=dict(facecolor='red', alpha=0.3))\n",
        "# plt.text(-10, 10, \"Topic2\", bbox=dict(facecolor='red', alpha=0.3))\n",
        "# plt.text(-10, -10, \"Topic3\", bbox=dict(facecolor='red', alpha=0.3))\n",
        "# plt.text(10, -10, \"Topic4\", bbox=dict(facecolor='red', alpha=0.3))\n",
        "\n",
        "plt.text(T1, T1, T1, bbox=dict(facecolor='g', alpha=1))\n",
        "plt.text(-T2, T2, T2, bbox=dict(facecolor='g', alpha=1))\n",
        "plt.text(-T3, -T3, T3, bbox=dict(facecolor='g', alpha=1))\n",
        "plt.text(T4, -T4, T4, bbox=dict(facecolor='g', alpha=1))\n",
        "\n",
        "figure = plt.gca()\n",
        "x_axis = figure.axes.get_xaxis()\n",
        "x_axis.set_visible(False)\n",
        "y_axis = figure.axes.get_yaxis()\n",
        "y_axis.set_visible(False)\n",
        "\n",
        "figure.set_facecolor('silver')\n",
        "\n",
        "plt.show()"
      ],
      "execution_count": null,
      "outputs": [
        {
          "output_type": "display_data",
          "data": {
            "image/png": "[encoded data removed]",
            "text/plain": [
              "<Figure size 432x288 with 1 Axes>"
            ]
          },
          "metadata": {
            "tags": [],
            "needs_background": "light"
          }
        }
      ]
    },
    {
      "cell_type": "code",
      "metadata": {
        "colab": {
          "base_uri": "https://localhost:8080/"
        },
        "id": "3uD-QY0eEQ9G",
        "outputId": "f42b12b1-75e6-40e5-ebe6-fd1bd961c830"
      },
      "source": [
        "Career_Predict(X_test_clstrs.at[0,'Cluster'])"
      ],
      "execution_count": null,
      "outputs": [
        {
          "output_type": "stream",
          "text": [
            "Careers suited for you: \n",
            "1a 1b 1c\n"
          ],
          "name": "stdout"
        }
      ]
    }
  ]
}