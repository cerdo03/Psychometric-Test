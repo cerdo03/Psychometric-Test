{
  "nbformat": 4,
  "nbformat_minor": 0,
  "metadata": {
    "colab": {
      "name": "sync.ipynb",
      "provenance": [],
      "collapsed_sections": []
    },
    "kernelspec": {
      "display_name": "Python 3",
      "name": "python3"
    },
    "language_info": {
      "name": "python"
    }
  },
  "cells": [
    {
      "cell_type": "code",
      "metadata": {
        "id": "Vh1cuuNR3Nin",
        "colab": {
          "base_uri": "https://localhost:8080/"
        },
        "outputId": "752c77cd-b742-4b56-fcef-cf4a07863ba5"
      },
      "source": [
        "import pandas as pd\n",
        "import numpy as np\n",
        "import matplotlib.pyplot as plt\n",
        "import random\n",
        "import math\n",
        "import statsmodels.api as sm"
      ],
      "execution_count": null,
      "outputs": [
        {
          "output_type": "stream",
          "name": "stderr",
          "text": [
            "/usr/local/lib/python3.7/dist-packages/statsmodels/tools/_testing.py:19: FutureWarning: pandas.util.testing is deprecated. Use the functions in the public API at pandas.testing instead.\n",
            "  import pandas.util.testing as tm\n"
          ]
        }
      ]
    },
    {
      "cell_type": "code",
      "metadata": {
        "id": "49evClyN3QOu"
      },
      "source": [
        "from google.colab import drive\n",
        "drive.mount('/content/drive')\n"
      ],
      "execution_count": null,
      "outputs": []
    },
    {
      "cell_type": "code",
      "metadata": {
        "id": "b73bVJym5ix6"
      },
      "source": [
        "new = pd.read_csv('/content/drive/MyDrive/newnot.csv')"
      ],
      "execution_count": null,
      "outputs": []
    },
    {
      "cell_type": "code",
      "metadata": {
        "id": "3jKMcTpG6nxI"
      },
      "source": [
        "new"
      ],
      "execution_count": null,
      "outputs": []
    },
    {
      "cell_type": "code",
      "metadata": {
        "id": "_dFyBp4b5qQ7"
      },
      "source": [
        "def getDefaultQuestionIds():\n",
        "  a=new.where(new['Concept']=='Default')\n",
        "  a=a.dropna(subset=['Concept'])\n",
        "  ans=a['Question No.']\n",
        "  return a\n",
        "  "
      ],
      "execution_count": null,
      "outputs": []
    },
    {
      "cell_type": "code",
      "metadata": {
        "id": "dBCQAq5WI3BH"
      },
      "source": [
        "f=getDefaultQuestionIds()\n",
        "f"
      ],
      "execution_count": null,
      "outputs": []
    },
    {
      "cell_type": "code",
      "metadata": {
        "id": "-9Lbn5kJ5vs7"
      },
      "source": [
        "data=pd.DataFrame()\n",
        "data=new.where(new['Concept']!='Default').dropna(subset=['Answer'])\n",
        "data[\"Difficulty\"] = pd.to_numeric(data[\"Difficulty\"], downcast=\"float\")\n",
        "data['Question No.']=data['Question No.'].map(str)\n",
        "data['Answer']=data['Answer'].map(str)"
      ],
      "execution_count": null,
      "outputs": []
    },
    {
      "cell_type": "code",
      "metadata": {
        "id": "22PgoLhi3YUb"
      },
      "source": [
        "\n",
        "#del data['Min. Time']\n",
        "#del data['Max. Time']\n",
        "# Setting minimum time allocated to each user on each question based on their difficulty\n",
        "# this can changed by test maker accordingly\n",
        "data['Min. Time']=data['Difficulty']*10\n",
        "data['flag']=0\n",
        "data"
      ],
      "execution_count": null,
      "outputs": []
    },
    {
      "cell_type": "code",
      "metadata": {
        "id": "_8dl3Zb4KQ2M"
      },
      "source": [
        "newdata=data.sort_values(by=['Difficulty'])\n",
        "newdata"
      ],
      "execution_count": null,
      "outputs": []
    },
    {
      "cell_type": "code",
      "metadata": {
        "id": "y7gIbnS6GxqZ"
      },
      "source": [
        "# setting up initial values of variables to be used\n",
        "qno={}\n",
        "difficulty={}\n",
        "x_lower={}\n",
        "x_upper={}\n",
        "da={}\n",
        "score={}\n",
        "\n",
        "# Total concepts\n",
        "concepts=data['Concept'].unique()\n",
        "concepts\n",
        "\n",
        "alpha=1\n",
        "beta=1\n",
        "flag=0\n",
        "\n",
        "visited=np.zeros(data['Question'].size)\n",
        "visited\n",
        "\n",
        "# This is used for setting up how many questions to be asked from each concept\n",
        "total=10\n",
        "left=total%len(concepts)\n",
        "questions_left={}\n",
        "i=0\n",
        "  \n",
        "x_overall=0\n",
        "for i in concepts: \n",
        "  questions_left[i]=int(total/len(concepts))\n",
        "  if left>0:\n",
        "    questions_left[i]+=1\n",
        "    left-=1\n",
        "  qno[i]=newdata['Question No.'].where(data['Concept']==i).dropna()\n",
        "  difficulty[i]=newdata['Difficulty'].where(data['Concept']==i).dropna()\n",
        "  da[i]=pd.DataFrame()\n",
        "  da[i]['ques']=qno[i]\n",
        "  da[i]['diff']=difficulty[i]\n",
        "  score[i]=0\n",
        "  x_upper[i]=difficulty[i].mean()\n",
        "  x_overall+=x_upper[i]\n",
        "  x_lower[i]=math.floor(x_upper[i])\n",
        "  print(x_upper[i])\n",
        "  print(x_lower[i])\n",
        "  print(qno[i])\n",
        "  print(difficulty[i])\n",
        "\n",
        "x_overall/=len(concepts)\n",
        "x_overall"
      ],
      "execution_count": null,
      "outputs": []
    },
    {
      "cell_type": "code",
      "metadata": {
        "id": "HuzTp8AFadvJ"
      },
      "source": [
        ""
      ],
      "execution_count": null,
      "outputs": []
    },
    {
      "cell_type": "code",
      "metadata": {
        "id": "N8yJHmMB4bsz"
      },
      "source": [
        "# This is rate at which x is changed which is based on sigmoid function or the logistic function\n",
        "def update(alpha,x):\n",
        "  return 1/(1+math.exp(alpha*-x))"
      ],
      "execution_count": null,
      "outputs": []
    },
    {
      "cell_type": "code",
      "metadata": {
        "id": "X7d44moF_1cz"
      },
      "source": [
        "# This function is called when model is unable to find any question in given range\n",
        "def ask2(m):\n",
        "  k=0\n",
        "  while k<10:\n",
        "    j=m.sample()\n",
        "    j=j.values.tolist()\n",
        "    ind=data[data['Question No.']==j[0]].index\n",
        "\n",
        "    c=data['Concept'][ind[0]]\n",
        "    k=k+1\n",
        "    if ((visited[ind[0]]==0)):\n",
        "      visited[ind[0]]=1\n",
        "      return str(data['Question No.'][ind[0]])\n",
        "      break\n",
        "  if k==10:\n",
        "    x_upper[c]+=0.2\n",
        "    x_lower[c]-=0.2\n",
        "    m=da[c]['ques'].where((da[c]['diff']<=x_upper[c]) & (da[c]['diff']>=x_lower[c])).dropna()\n",
        "    return ask2(m)"
      ],
      "execution_count": null,
      "outputs": []
    },
    {
      "cell_type": "code",
      "metadata": {
        "id": "zT7ERjAXPbJ5"
      },
      "source": [
        "def modifyQuestionQueue(queue,answers):\n",
        "  i=1\n",
        "  flag=0\n",
        "  if i==0:\n",
        "    queue=[]\n",
        "    for c in concepts:\n",
        "      alpha=0.5\n",
        "      m=da[c]['ques'].where((da[c]['diff']<=x_upper[c]) & (da[c]['diff']>=x_lower[c])).dropna()\n",
        "      x1=x_upper[c]\n",
        "      x2=x_lower[c]\n",
        "      j=ask2(m)\n",
        "      x_upper[c]=x1\n",
        "      x_lower[c]=x2\n",
        "      queue.append(str(j))\n",
        "      questions_left[c]-=1\n",
        "      i+=1\n",
        "    alpha=1\n",
        "    return queue\n",
        "  else:\n",
        "    alpha=1\n",
        "    if i>=total-1:\n",
        "      queue=[]\n",
        "      return queue\n",
        "    for k in range(0,len(queue)):\n",
        "      ind=data[data['Question No.']==queue[k]].index\n",
        "      check=ind[0]\n",
        "      c=data['Concept'][check]\n",
        "      if answers[0][k]==data['Answer'][check]:\n",
        "        if int(answers[1][k])<int(data['Min. Time'][check]):\n",
        "            data['flag'][check]+=1\n",
        "            flag+=1\n",
        "        x_upper[c]/=update(alpha,x_upper[c])\n",
        "        x_lower[c]=math.floor(x_upper[c])\n",
        "        score[c]+=100*float(data['Difficulty'][check])\n",
        "      else:\n",
        "        x_upper[c]*=update(beta,x_upper[c])\n",
        "        x_lower[c]=math.floor(x_upper[c])\n",
        "    x_overall=0\n",
        "    \n",
        "    queue=[]\n",
        "    c=random.choice(concepts)\n",
        "\n",
        "    # asking given questions from each concept\n",
        "    if questions_left[c]<=0:\n",
        "      while questions_left[c]!=0:\n",
        "        c=random.choice(concepts)\n",
        "    questions_left[c]-=1\n",
        "    for f in concepts:\n",
        "      x_overall+=x_upper[f]\n",
        "      x_overall/=len(concepts)\n",
        "    m=da[c]['ques'].where((da[c]['diff']<=x_upper[c]) & (da[c]['diff']>=x_lower[c])).dropna()\n",
        "    x1=x_upper[c]\n",
        "    x2=x_lower[c]\n",
        "    j=ask2(m)\n",
        "    x_upper[c]=x1\n",
        "    x_lower[c]=x2\n",
        "    queue.append(str(j))\n",
        "    questions_left[c]-=1\n",
        "      # If there are many flags or value of x_overall too low ending test\n",
        "    if flag>=0.3*total:\n",
        "      queue=[]\n",
        "      return queue\n",
        "    if x_overall<1:\n",
        "      queue=[]\n",
        "      return queue\n",
        "    i+=1\n",
        "    return queue"
      ],
      "execution_count": null,
      "outputs": []
    },
    {
      "cell_type": "code",
      "metadata": {
        "id": "TFWx0rY9wTs5"
      },
      "source": [
        "def Updatediff(answers):\n",
        "  "
      ],
      "execution_count": null,
      "outputs": []
    },
    {
      "cell_type": "code",
      "metadata": {
        "id": "hjLC0O_J2SR8"
      },
      "source": [
        "ask1=[]\n",
        "queue=['1.0']\n",
        "answers=[['3.0'],[30]]\n",
        "ask1=modifyQuestionQueue(queue,answers)\n",
        "ask1"
      ],
      "execution_count": null,
      "outputs": []
    },
    {
      "cell_type": "code",
      "metadata": {
        "id": "KUK-vD3Ztfxn"
      },
      "source": [
        "training_set=pd.read_csv('/content/drive/MyDrive/data1.csv')\n",
        "training_set=training_set.drop(0,axis=0)\n",
        "training_set"
      ],
      "execution_count": null,
      "outputs": []
    },
    {
      "cell_type": "code",
      "metadata": {
        "id": "Ry7cmfqKeVOv"
      },
      "source": [
        "training_set1=training_set.copy()"
      ],
      "execution_count": null,
      "outputs": []
    },
    {
      "cell_type": "code",
      "metadata": {
        "id": "fuSpDcnD_aTp"
      },
      "source": [
        "training_set"
      ],
      "execution_count": null,
      "outputs": []
    },
    {
      "cell_type": "code",
      "metadata": {
        "id": "ADF5TaEzhDaR"
      },
      "source": [
        "questions_left"
      ],
      "execution_count": null,
      "outputs": []
    },
    {
      "cell_type": "code",
      "metadata": {
        "id": "rrjBMdK9ffzJ"
      },
      "source": [
        "x_overall"
      ],
      "execution_count": null,
      "outputs": []
    },
    {
      "cell_type": "code",
      "metadata": {
        "id": "IOMWiSqB2tdL"
      },
      "source": [
        "# Plotting graph\n",
        "y=np.arange(1,11)\n",
        "plt.plot(y,x_over,label='x_overall')\n",
        "plt.plot(y,X[1],label='x for concept 1')\n",
        "plt.plot(y,X[2],label='x for concept 2')\n",
        "plt.legend()\n",
        "plt.show()"
      ],
      "execution_count": null,
      "outputs": []
    },
    {
      "cell_type": "code",
      "metadata": {
        "id": "ZbhthLAUHs7Y"
      },
      "source": [
        "user_output=pd.DataFrame()"
      ],
      "execution_count": null,
      "outputs": []
    },
    {
      "cell_type": "code",
      "metadata": {
        "id": "UPLNsJTxHuv3"
      },
      "source": [
        "user_output[\"answer\"]=user_answer\n",
        "user_output[\"question\"]=index"
      ],
      "execution_count": null,
      "outputs": []
    },
    {
      "cell_type": "code",
      "metadata": {
        "id": "75XJw9BFHzY_"
      },
      "source": [
        "print(user_output)"
      ],
      "execution_count": null,
      "outputs": []
    },
    {
      "cell_type": "code",
      "metadata": {
        "id": "7t2dhPtoeizp"
      },
      "source": [
        "print(m)"
      ],
      "execution_count": null,
      "outputs": []
    },
    {
      "cell_type": "code",
      "metadata": {
        "id": "SK3vsZDV6FCU"
      },
      "source": [
        "sim_options = {\n",
        "    \"name\": \"cosine\",\n",
        "    \"user_based\": False ,  # Compute  similarities between items\n",
        "}\n",
        "algo = KNNWithMeans(sim_options=sim_options)"
      ],
      "execution_count": null,
      "outputs": []
    },
    {
      "cell_type": "code",
      "metadata": {
        "id": "ybMFTACZhilR"
      },
      "source": [
        "training_set.shape"
      ],
      "execution_count": null,
      "outputs": []
    },
    {
      "cell_type": "code",
      "metadata": {
        "id": "YAluZqUO3z4-"
      },
      "source": [
        "training_set1"
      ],
      "execution_count": null,
      "outputs": []
    },
    {
      "cell_type": "code",
      "metadata": {
        "id": "mWi6aeMqKF1U"
      },
      "source": [
        "ar=np.array([0,0,0,0,0,0,0,0,0,0,0,0,0,0,0,0,0,0])"
      ],
      "execution_count": null,
      "outputs": []
    },
    {
      "cell_type": "code",
      "metadata": {
        "id": "KfdObdBskJ52"
      },
      "source": [
        "ar.shape"
      ],
      "execution_count": null,
      "outputs": []
    },
    {
      "cell_type": "code",
      "metadata": {
        "id": "jyuWvE89kOLK"
      },
      "source": [
        "training_set.loc[len(training_set.index)]=ar"
      ],
      "execution_count": null,
      "outputs": []
    },
    {
      "cell_type": "code",
      "metadata": {
        "id": "Dc7c1-zmku_4"
      },
      "source": [
        "training_set"
      ],
      "execution_count": null,
      "outputs": []
    },
    {
      "cell_type": "code",
      "metadata": {
        "id": "Z-p2PDos6TRw"
      },
      "source": [
        "from sklearn.neighbors import NearestNeighbors\n",
        "nbrs = NearestNeighbors(n_neighbors=2, algorithm='ball_tree').fit(training_set1)"
      ],
      "execution_count": null,
      "outputs": []
    },
    {
      "cell_type": "code",
      "metadata": {
        "id": "R5Z53CJmRpjc"
      },
      "source": [
        "index"
      ],
      "execution_count": null,
      "outputs": []
    },
    {
      "cell_type": "code",
      "metadata": {
        "id": "XZ-SFXxD5SNh"
      },
      "source": [
        "data2=pd.DataFrame()"
      ],
      "execution_count": null,
      "outputs": []
    },
    {
      "cell_type": "code",
      "metadata": {
        "id": "nSm56HxH0Rly"
      },
      "source": [
        "j=0;\n",
        "for i in index:\n",
        "  data2[len(data2.columns)]=training_set.iloc[:,i-1]\n",
        "  j=j+1"
      ],
      "execution_count": null,
      "outputs": []
    },
    {
      "cell_type": "code",
      "metadata": {
        "id": "_SL11F825yXt"
      },
      "source": [
        "data2"
      ],
      "execution_count": null,
      "outputs": []
    },
    {
      "cell_type": "code",
      "metadata": {
        "id": "4r4MOD0K53jW"
      },
      "source": [
        "visited"
      ],
      "execution_count": null,
      "outputs": []
    },
    {
      "cell_type": "code",
      "metadata": {
        "id": "R-SauS6n6uN5"
      },
      "source": [
        "y_train=pd.DataFrame()"
      ],
      "execution_count": null,
      "outputs": []
    },
    {
      "cell_type": "code",
      "metadata": {
        "id": "NIMCP1vc6T2u"
      },
      "source": [
        "tex=range(18)\n",
        "for i in tex:\n",
        "  if visited[i]==0.:\n",
        "    y_train[len(y_train.columns)]=training_set.iloc[:,i]\n"
      ],
      "execution_count": null,
      "outputs": []
    },
    {
      "cell_type": "code",
      "metadata": {
        "id": "yBHs-TAS889E"
      },
      "source": [
        "data2"
      ],
      "execution_count": null,
      "outputs": []
    },
    {
      "cell_type": "code",
      "metadata": {
        "id": "CtBT_900B4sa"
      },
      "source": [
        "x_train=data2"
      ],
      "execution_count": null,
      "outputs": []
    },
    {
      "cell_type": "code",
      "metadata": {
        "id": "S2quuRAV7V7_"
      },
      "source": [
        "y_train"
      ],
      "execution_count": null,
      "outputs": []
    },
    {
      "cell_type": "code",
      "metadata": {
        "id": "RlVGC5UX93Z1"
      },
      "source": [
        "y_output=[]"
      ],
      "execution_count": null,
      "outputs": []
    },
    {
      "cell_type": "code",
      "metadata": {
        "id": "eXUIJ0HV8yFo"
      },
      "source": [
        "x_train"
      ],
      "execution_count": null,
      "outputs": []
    },
    {
      "cell_type": "code",
      "metadata": {
        "id": "7K_uCS-KFOxK"
      },
      "source": [
        "from sklearn.linear_model import LogisticRegression\n",
        "model = LogisticRegression(solver='liblinear', random_state=0)"
      ],
      "execution_count": null,
      "outputs": []
    },
    {
      "cell_type": "code",
      "metadata": {
        "id": "5dPz3s6rONoA"
      },
      "source": [
        "user_out=pd.DataFrame()"
      ],
      "execution_count": null,
      "outputs": []
    },
    {
      "cell_type": "code",
      "metadata": {
        "id": "8OdbAk0SHiGV"
      },
      "source": [
        "user_out=user_output[\"answer\"]"
      ],
      "execution_count": null,
      "outputs": []
    },
    {
      "cell_type": "code",
      "metadata": {
        "id": "G3YKb6sbNc9P"
      },
      "source": [
        "data2"
      ],
      "execution_count": null,
      "outputs": []
    },
    {
      "cell_type": "code",
      "metadata": {
        "id": "ShcDgqXhhOSJ"
      },
      "source": [
        "data2"
      ],
      "execution_count": null,
      "outputs": []
    },
    {
      "cell_type": "code",
      "metadata": {
        "id": "e4JonGJsNzDF"
      },
      "source": [
        "user_out"
      ],
      "execution_count": null,
      "outputs": []
    },
    {
      "cell_type": "code",
      "metadata": {
        "id": "p2hnP33fikih"
      },
      "source": [
        "y_train"
      ],
      "execution_count": null,
      "outputs": []
    },
    {
      "cell_type": "code",
      "metadata": {
        "id": "rlSPXwu7gbRE"
      },
      "source": [
        "user_out=user_out.to_numpy()"
      ],
      "execution_count": null,
      "outputs": []
    },
    {
      "cell_type": "code",
      "metadata": {
        "id": "nRAC09lzgkne"
      },
      "source": [
        "user_out=np.reshape(user_out, ((1,len(user_out))), order='C')"
      ],
      "execution_count": null,
      "outputs": []
    },
    {
      "cell_type": "code",
      "metadata": {
        "id": "QDdVhh2HhyVW"
      },
      "source": [
        "y_output=[]"
      ],
      "execution_count": null,
      "outputs": []
    },
    {
      "cell_type": "code",
      "metadata": {
        "id": "CKxDdU3fhqd1"
      },
      "source": [
        ""
      ],
      "execution_count": null,
      "outputs": []
    },
    {
      "cell_type": "code",
      "metadata": {
        "id": "21WoRzoyB3H_"
      },
      "source": [
        "z12=range(len(y_train.columns))\n",
        "for i in  z12:\n",
        "  xtr=pd.DataFrame()\n",
        "  xtr=y_train.iloc[:,i]\n",
        "  model.fit(data2,xtr)\n",
        "  z=model.predict(user_out)\n",
        "  y_output.append(int(z))"
      ],
      "execution_count": null,
      "outputs": []
    },
    {
      "cell_type": "code",
      "metadata": {
        "id": "-dz_dtMgHB1L"
      },
      "source": [
        "y_output"
      ],
      "execution_count": null,
      "outputs": []
    },
    {
      "cell_type": "code",
      "metadata": {
        "id": "k2eZBRrViCCR"
      },
      "source": [
        "allans=np.zeros(18)\n",
        "j=0\n",
        "for m in range(18):\n",
        "  if user_quesans[m]==-1:\n",
        "    user_quesans[m]=y_output[j]\n",
        "    j+=1"
      ],
      "execution_count": null,
      "outputs": []
    },
    {
      "cell_type": "code",
      "metadata": {
        "id": "cs0-e1EGokmM"
      },
      "source": [
        "user_quesans\n"
      ],
      "execution_count": null,
      "outputs": []
    },
    {
      "cell_type": "code",
      "metadata": {
        "id": "wKMLUGD5o-V0"
      },
      "source": [
        "training_set.loc[len(training_set.index)+1]=user_quesans"
      ],
      "execution_count": null,
      "outputs": []
    },
    {
      "cell_type": "code",
      "metadata": {
        "id": "arhLmZXSo_5I"
      },
      "source": [
        "training_set"
      ],
      "execution_count": null,
      "outputs": []
    },
    {
      "cell_type": "code",
      "metadata": {
        "id": "p6m522fVpv7_"
      },
      "source": [
        "n=100"
      ],
      "execution_count": null,
      "outputs": []
    },
    {
      "cell_type": "code",
      "metadata": {
        "id": "1nQmcHqdst_Z"
      },
      "source": [
        "data[\"Difficulty\"] = pd.to_numeric(data[\"Difficulty\"], downcast=\"float\")"
      ],
      "execution_count": null,
      "outputs": []
    },
    {
      "cell_type": "code",
      "metadata": {
        "id": "yeZp4Acgpx_I"
      },
      "source": [
        "\n",
        "for m in range(18):\n",
        "  if user_quesans[m]==1:\n",
        "    data['Difficulty'][m]-=1/n\n",
        "  else:\n",
        "    data['Difficulty'][m]+=1/n"
      ],
      "execution_count": null,
      "outputs": []
    },
    {
      "cell_type": "code",
      "metadata": {
        "id": "W9av7GU9sUrZ"
      },
      "source": [
        "data"
      ],
      "execution_count": null,
      "outputs": []
    },
    {
      "cell_type": "code",
      "metadata": {
        "id": "OJRlgI2MwnQN"
      },
      "source": [
        "score"
      ],
      "execution_count": null,
      "outputs": []
    }
  ]
}